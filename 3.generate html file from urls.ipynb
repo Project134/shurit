{
 "cells": [
  {
   "cell_type": "code",
   "execution_count": 32,
   "id": "0b91b764-0e31-4da8-bd1b-70b9d90be683",
   "metadata": {},
   "outputs": [],
   "source": [
    "import os \n",
    "import numpy as np \n",
    "from bs4 import BeautifulSoup \n",
    "import requests\n",
    "from selenium import webdriver \n",
    "import time\n",
    "from selenium.webdriver.common.by import By \n",
    "import pandas as pd \n",
    "import random \n",
    "import json \n",
    "from collections import defaultdict\n",
    "import ast"
   ]
  },
  {
   "cell_type": "code",
   "execution_count": 33,
   "id": "89444ac8-85b1-4338-a73b-b5d3b7ebe02d",
   "metadata": {},
   "outputs": [],
   "source": [
    "# manage json \n",
    "def write_json(data,fname,fpath=None):\n",
    "    if fpath:\n",
    "        loc = fpath + '/' + fname + '.json'\n",
    "    else: \n",
    "        loc = os.getcwd()+\"/\" + fname + '.json'\n",
    "\n",
    "    with open(loc, 'w') as json_file:\n",
    "        json.dump(data, json_file)\n",
    "\n",
    "\n",
    "def read_json(fname,fpath=None):\n",
    "    if fpath:\n",
    "        loc = fpath + '/' + fname + '.json'\n",
    "    else: \n",
    "        loc = os.getcwd()+\"/\" + fname + '.json'\n",
    "\n",
    "    with open(loc, 'r') as json_file:\n",
    "        data = json.load(json_file)\n",
    "        return data"
   ]
  },
  {
   "cell_type": "code",
   "execution_count": 34,
   "id": "be4c1a9c-ad4a-49e4-94c8-db558136bb10",
   "metadata": {},
   "outputs": [],
   "source": [
    "# current directory\n",
    "cwd = os.getcwd()+\"/\"\n"
   ]
  },
  {
   "cell_type": "code",
   "execution_count": 35,
   "id": "3a26a921-1e4f-4830-9d4b-0a9dd874d9c8",
   "metadata": {},
   "outputs": [],
   "source": [
    "def create_html_from_dict(data_dict, filename=cwd+'output.html'):\n",
    "    # Start the HTML structure\n",
    "    html_content = '<html>\\n<head>\\n<title>Links</title>\\n</head>\\n<body>\\n'\n",
    "    \n",
    "    # Create a link for each item in the dictionary\n",
    "    for item in data_dict:\n",
    "        url = item.get('url', '#')\n",
    "        display_name = item.get('display_name', 'Unnamed')\n",
    "        html_content += f'<a href=\"{url}\" id=\"{item[\"id\"]}\">{display_name}</a><br>\\n'\n",
    "    \n",
    "    # End the HTML structure\n",
    "    html_content += '</body>\\n</html>'\n",
    "    \n",
    "    # Write the content to an HTML file\n",
    "    with open(filename, 'w') as file:\n",
    "        file.write(html_content)\n",
    "    print(f'HTML file created successfully.')\n"
   ]
  },
  {
   "cell_type": "code",
   "execution_count": 36,
   "id": "b428e6ab-0f0e-4656-8770-e4b38a6e4cac",
   "metadata": {},
   "outputs": [],
   "source": [
    "job_3 = pd.read_csv(cwd+'job_3.csv')"
   ]
  },
  {
   "cell_type": "code",
   "execution_count": 37,
   "id": "8b5d674a-0e8d-4ee7-bab4-71f1a1ad551b",
   "metadata": {},
   "outputs": [],
   "source": [
    "job_3['display_name'] = job_3['job_title'].str.cat(job_3['company_name'], sep=' | ',na_rep='no company name').str.cat(job_3['keywords'], sep=' | ',na_rep = 'no keywords')"
   ]
  },
  {
   "cell_type": "code",
   "execution_count": 38,
   "id": "816f0014-29b6-4686-8584-4f7e6811d928",
   "metadata": {},
   "outputs": [],
   "source": [
    "job_3 = job_3.filter(items=['job_id','job_url','display_name'])"
   ]
  },
  {
   "cell_type": "code",
   "execution_count": 39,
   "id": "d5c2b4df-d6fc-4486-8c11-621de5bbf997",
   "metadata": {},
   "outputs": [],
   "source": [
    "job_3 = job_3.rename(columns={\n",
    "    'job_id' : 'id',\n",
    "    'job_url' : 'url'\n",
    "}).to_dict(orient='records')"
   ]
  },
  {
   "cell_type": "code",
   "execution_count": 40,
   "id": "7b760005-e549-4b30-b6de-dfcfe2f696f5",
   "metadata": {},
   "outputs": [
    {
     "name": "stdout",
     "output_type": "stream",
     "text": [
      "HTML file created successfully.\n"
     ]
    }
   ],
   "source": [
    "create_html_from_dict(job_3)"
   ]
  },
  {
   "cell_type": "code",
   "execution_count": null,
   "id": "ee46815a-f7be-4525-87de-685499592201",
   "metadata": {},
   "outputs": [],
   "source": []
  }
 ],
 "metadata": {
  "kernelspec": {
   "display_name": "Python 3 (ipykernel)",
   "language": "python",
   "name": "python3"
  },
  "language_info": {
   "codemirror_mode": {
    "name": "ipython",
    "version": 3
   },
   "file_extension": ".py",
   "mimetype": "text/x-python",
   "name": "python",
   "nbconvert_exporter": "python",
   "pygments_lexer": "ipython3",
   "version": "3.12.6"
  }
 },
 "nbformat": 4,
 "nbformat_minor": 5
}
