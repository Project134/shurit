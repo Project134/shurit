{
 "cells": [
  {
   "cell_type": "markdown",
   "id": "6d79681c-d871-4bc1-baee-c25a0bf2581e",
   "metadata": {},
   "source": [
    "### import libraries"
   ]
  },
  {
   "cell_type": "code",
   "execution_count": 139,
   "id": "b7f70586-c04a-4477-b82c-acba8e409203",
   "metadata": {},
   "outputs": [],
   "source": [
    "import os \n",
    "import numpy as np \n",
    "from bs4 import BeautifulSoup \n",
    "import requests\n",
    "from selenium import webdriver \n",
    "import time\n",
    "from selenium.webdriver.common.by import By \n",
    "import pandas as pd \n",
    "import random \n",
    "import json \n",
    "from collections import defaultdict\n",
    "import ast"
   ]
  },
  {
   "cell_type": "markdown",
   "id": "03a95caa-25b4-4726-92a8-18a0a3a5b030",
   "metadata": {},
   "source": [
    "### functions"
   ]
  },
  {
   "cell_type": "code",
   "execution_count": 140,
   "id": "cba05ee9-3be0-4c8d-9fa4-b0e2a21b01e4",
   "metadata": {},
   "outputs": [],
   "source": [
    "# manage json \n",
    "def write_json(data,fname,fpath=None):\n",
    "    if fpath:\n",
    "        loc = fpath + '/' + fname + '.json'\n",
    "    else: \n",
    "        loc = os.getcwd()+\"/\" + fname + '.json'\n",
    "\n",
    "    with open(loc, 'w') as json_file:\n",
    "        json.dump(data, json_file)\n",
    "\n",
    "\n",
    "def read_json(fname,fpath=None):\n",
    "    if fpath:\n",
    "        loc = fpath + '/' + fname + '.json'\n",
    "    else: \n",
    "        loc = os.getcwd()+\"/\" + fname + '.json'\n",
    "\n",
    "    with open(loc, 'r') as json_file:\n",
    "        data = json.load(json_file)\n",
    "        return data"
   ]
  },
  {
   "cell_type": "code",
   "execution_count": 141,
   "id": "7354b69b-87ed-46fe-a278-0b654f4e5bc8",
   "metadata": {},
   "outputs": [],
   "source": [
    "def generate_html_with_tiles(url_dict, filename=f'{cwd}tiles.html'):\n",
    "    # Begin writing the HTML content\n",
    "    html_content = '''<!DOCTYPE html>\n",
    "<html lang=\"en\">\n",
    "<head>\n",
    "    <meta charset=\"UTF-8\">\n",
    "    <meta name=\"viewport\" content=\"width=device-width, initial-scale=1.0\">\n",
    "    <title>URL Tiles</title>\n",
    "    <style>\n",
    "        .tile {\n",
    "            display: inline-block;\n",
    "            margin: 10px;\n",
    "            padding: 20px;\n",
    "            border: 1px solid #ccc;\n",
    "            border-radius: 8px;\n",
    "            background-color: #f9f9f9;\n",
    "            cursor: pointer;\n",
    "            text-align: center;\n",
    "            min-width: 100px;\n",
    "        }\n",
    "        .clicked {\n",
    "            background-color: lightgreen;\n",
    "        }\n",
    "    </style>\n",
    "</head>\n",
    "<body>\n",
    "    <div id=\"tiles-container\">\n",
    "'''\n",
    "\n",
    "    # Add tiles for each URL\n",
    "    for display_text, url in url_dict.items():\n",
    "        html_content += f'''\n",
    "        <div class=\"tile\" onclick=\"handleClick(this, '{url}')\">\n",
    "            {display_text}\n",
    "        </div>\n",
    "'''\n",
    "\n",
    "    # Add script to handle clicks and storage\n",
    "    html_content += '''\n",
    "    </div>\n",
    "    <script>\n",
    "        function handleClick(tile, url) {\n",
    "            let clickedTiles = JSON.parse(localStorage.getItem('clickedTiles')) || [];\n",
    "            if (clickedTiles.includes(url)) {\n",
    "                // If already clicked, remove from clickedTiles and remove clicked class\n",
    "                clickedTiles = clickedTiles.filter(item => item !== url);\n",
    "                tile.classList.remove('clicked');\n",
    "            } else {\n",
    "                // If not clicked, add to clickedTiles and add clicked class\n",
    "                clickedTiles.push(url);\n",
    "                tile.classList.add('clicked');\n",
    "            }\n",
    "            localStorage.setItem('clickedTiles', JSON.stringify(clickedTiles));\n",
    "            window.open(url, '_blank');  // Open the URL in a new tab\n",
    "        }\n",
    "\n",
    "        // Mark previously clicked tiles\n",
    "        window.onload = function() {\n",
    "            let clickedTiles = JSON.parse(localStorage.getItem('clickedTiles')) || [];\n",
    "            let tiles = document.querySelectorAll('.tile');\n",
    "            tiles.forEach(tile => {\n",
    "                let url = tile.getAttribute('onclick').split(\"handleClick(this, '\")[1].slice(0, -2);\n",
    "                if (clickedTiles.includes(url)) {\n",
    "                    tile.classList.add('clicked');\n",
    "                }\n",
    "            });\n",
    "        }\n",
    "    </script>\n",
    "</body>\n",
    "</html>'''\n",
    "\n",
    "    # Write to the specified HTML file\n",
    "    with open(filename, 'w') as file:\n",
    "        file.write(html_content)"
   ]
  },
  {
   "cell_type": "markdown",
   "id": "0dfada5b-e796-4c09-b3f1-c2ed344a71c9",
   "metadata": {},
   "source": [
    "### basic variables setup"
   ]
  },
  {
   "cell_type": "code",
   "execution_count": 142,
   "id": "5b7b8b35-e3ad-40e5-843e-a95af73c8bd6",
   "metadata": {},
   "outputs": [],
   "source": [
    "# current directory\n",
    "cwd = os.getcwd()+\"/\"\n"
   ]
  },
  {
   "cell_type": "markdown",
   "id": "179c5c69-fa08-449f-893e-f18c273fb127",
   "metadata": {},
   "source": [
    "### glassdoor urls"
   ]
  },
  {
   "cell_type": "markdown",
   "id": "4295c72e-81e1-47af-bb5b-84d8d2f21ac1",
   "metadata": {},
   "source": [
    "#### glassdoor : url parameters "
   ]
  },
  {
   "cell_type": "code",
   "execution_count": 143,
   "id": "d3bd4e40-70f6-4fa4-860c-01513e2b7aa8",
   "metadata": {},
   "outputs": [],
   "source": [
    "glassdoor_urls = {}\n",
    "\n",
    "# start url \n",
    "start = 'https://www.glassdoor.co.in/Job/'\n",
    "\n",
    "#search term\n",
    "search_term = {\n",
    "    'Analytics + India' : 'india-analytics-jobs-SRCH_IL.0,5_IN115_KO6,15.htm',\n",
    "    'Analyst + India' : 'india-analyst-jobs-SRCH_IL.0,5_IN115_KO6,13.htm',\n",
    "    'Pyspark + India' : 'india-pyspark-jobs-SRCH_IL.0,5_IN115_KO6,13.htm'\n",
    "}\n",
    "\n",
    "#rating \n",
    "rating = {\n",
    "'min rating = 3.5' : 'minRating=3.5'\n",
    "}\n",
    "\n",
    "#sort\n",
    "sort = {\n",
    "'order by date':'sortBy=date_desc'\n",
    "}\n",
    "\n",
    "# company size\n",
    "company_size = {\n",
    "'>5000 employees':'employerSizes=5'\n",
    "}\n",
    "\n",
    "# role position\n",
    "seniority = {\n",
    "    'All Seniority levels':'seniorityType=all'\n",
    "    # ,\n",
    "    # 'Mid Senior Level':'seniorityType=midseniorlevel',\n",
    "    # 'Director':'seniorityType=director',\n",
    "    # 'Executive':'seniorityType=executive'\n",
    "    \n",
    "}\n",
    "\n",
    "# city \n",
    "city = {\n",
    "    'Remote':'&remoteWorkType=1',\n",
    "    'Mumbai':'cityId=2851180',\n",
    "    'Gurgaon':'cityId=2921225',\n",
    "    'Noida':'cityId=4477468'\n",
    "}"
   ]
  },
  {
   "cell_type": "code",
   "execution_count": 144,
   "id": "90c49d7e-5204-44ec-a935-97db3c3555b6",
   "metadata": {},
   "outputs": [],
   "source": [
    "for search_term_key, search_term_value in search_term.items():\n",
    "    for rating_key,rating_value in rating.items():\n",
    "        for company_size_key,company_size_value in company_size.items():\n",
    "            for seniority_key,seniority_value in seniority.items():\n",
    "                for city_key,city_value in city.items():\n",
    "                    url_value = f'{start}{search_term_value}?{rating_value}&{sort['order by date']}&{company_size_value}&{seniority_value}&{city_value}'\n",
    "                    url_key = f'Glassdoor : {search_term_key} + {rating_key} + {company_size_key} + {seniority_key} + {city_key}'\n",
    "                    glassdoor_urls[url_key] = url_value\n",
    "                                \n",
    "                    "
   ]
  },
  {
   "cell_type": "markdown",
   "id": "b45cd564-bea7-4c2c-9428-45911c6bfa02",
   "metadata": {},
   "source": [
    "### linkedin url"
   ]
  },
  {
   "cell_type": "markdown",
   "id": "efea3afb-9545-4ae5-89ea-5b90d1804b1f",
   "metadata": {},
   "source": [
    "#### linkedin url parameters"
   ]
  },
  {
   "cell_type": "code",
   "execution_count": 145,
   "id": "711d56a6-690c-486f-81d1-2ec65981eb32",
   "metadata": {},
   "outputs": [],
   "source": [
    "linkedin_urls = {}\n",
    "\n",
    "#start url \n",
    "start = 'https://www.linkedin.com/jobs/search/'\n",
    "\n",
    "# keyword\n",
    "keywords = {\n",
    "    'Analytics and Manager':'keywords=%22Analytics%22%20AND%20%22Manager%22',\n",
    "    'Business Analyst':'keywords=%22Business%20Analyst%22'\n",
    "    \n",
    "}\n",
    "\n",
    "# sort\n",
    "sort = {\n",
    "    'order by date':'sortBy=DD'\n",
    "}\n",
    "\n",
    "\n",
    "# geography  -- geoID=\n",
    "geography = {\n",
    "    'India':'102713980',\n",
    "    'Worldwide':'92000000',\n",
    "    'Bengaluru':'105214831',\n",
    "    'Gurgaon':'104793846',\n",
    "    'Delhi':'105282602',\n",
    "    'Mumbai':'106164952',\n",
    "    'Noida':'104869687',\n",
    "    'Gurugram':'106442238'    \n",
    "}\n",
    "\n",
    "# combination of geography -- for this one the parameter used in the url is f_PP\n",
    "geography_combination = {\n",
    "    'India':'&geoId=102713980',\n",
    "    'Delhi + Bengaluru + Gurgaon + Noida + Mumbai' : 'f_PP=105214831%2C106164952%2C106442238%2C104793846%2C104869687%2C105282602',\n",
    "    'Remote - India' : 'f_WT=2&geoId=102713980'\n",
    "}"
   ]
  },
  {
   "cell_type": "code",
   "execution_count": 146,
   "id": "83349340-9d16-40f9-96a4-41861dd9615e",
   "metadata": {},
   "outputs": [],
   "source": [
    "for keywords_key, keywords_value in keywords.items():\n",
    "    for geography_combination_key, geography_combination_value in geography_combination.items():\n",
    "        url_key = f'linkedin : {keywords_key} + {geography_combination_key}'\n",
    "        url_value = f'{start}?{sort['order by date']}&{geography_combination_value}&{keywords_value}'\n",
    "        linkedin_urls[url_key] = url_value"
   ]
  },
  {
   "cell_type": "code",
   "execution_count": null,
   "id": "0f7ebfea-88b4-45a5-8953-bd3388880e47",
   "metadata": {},
   "outputs": [],
   "source": []
  },
  {
   "cell_type": "markdown",
   "id": "064c0b2f-eac1-47ef-bfe2-7383dcd9fbce",
   "metadata": {},
   "source": [
    "### creating html file"
   ]
  },
  {
   "cell_type": "code",
   "execution_count": 147,
   "id": "d111d767-6e9f-45b6-aeb0-00e6b2bdc9cd",
   "metadata": {},
   "outputs": [],
   "source": [
    "url_dict = {**linkedin_urls, **glassdoor_urls}\n",
    "\n",
    "generate_html_with_tiles(url_dict)"
   ]
  },
  {
   "cell_type": "code",
   "execution_count": null,
   "id": "12d7045a-e3fa-4068-a386-5d61a504be91",
   "metadata": {},
   "outputs": [],
   "source": []
  },
  {
   "cell_type": "code",
   "execution_count": null,
   "id": "b0c9d5f5-7f84-4cf0-a88e-8166d384ac0d",
   "metadata": {},
   "outputs": [],
   "source": []
  },
  {
   "cell_type": "code",
   "execution_count": null,
   "id": "9471fd1e-17da-4019-8c11-1b24bb0da5b1",
   "metadata": {},
   "outputs": [],
   "source": []
  }
 ],
 "metadata": {
  "kernelspec": {
   "display_name": "Python 3 (ipykernel)",
   "language": "python",
   "name": "python3"
  },
  "language_info": {
   "codemirror_mode": {
    "name": "ipython",
    "version": 3
   },
   "file_extension": ".py",
   "mimetype": "text/x-python",
   "name": "python",
   "nbconvert_exporter": "python",
   "pygments_lexer": "ipython3",
   "version": "3.12.6"
  }
 },
 "nbformat": 4,
 "nbformat_minor": 5
}
