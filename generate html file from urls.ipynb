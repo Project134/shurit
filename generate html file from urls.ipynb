{
 "cells": [
  {
   "cell_type": "code",
   "execution_count": 8,
   "id": "0b91b764-0e31-4da8-bd1b-70b9d90be683",
   "metadata": {},
   "outputs": [],
   "source": [
    "import os \n",
    "import numpy as np \n",
    "from bs4 import BeautifulSoup \n",
    "import requests\n",
    "from selenium import webdriver \n",
    "import time\n",
    "from selenium.webdriver.common.by import By \n",
    "import pandas as pd \n",
    "import random \n",
    "import json \n",
    "from collections import defaultdict\n",
    "import ast"
   ]
  },
  {
   "cell_type": "code",
   "execution_count": 9,
   "id": "89444ac8-85b1-4338-a73b-b5d3b7ebe02d",
   "metadata": {},
   "outputs": [],
   "source": [
    "# manage json \n",
    "def write_json(data,fname,fpath=None):\n",
    "    if fpath:\n",
    "        loc = fpath + '/' + fname + '.json'\n",
    "    else: \n",
    "        loc = os.getcwd()+\"/\" + fname + '.json'\n",
    "\n",
    "    with open(loc, 'w') as json_file:\n",
    "        json.dump(data, json_file)\n",
    "\n",
    "\n",
    "def read_json(fname,fpath=None):\n",
    "    if fpath:\n",
    "        loc = fpath + '/' + fname + '.json'\n",
    "    else: \n",
    "        loc = os.getcwd()+\"/\" + fname + '.json'\n",
    "\n",
    "    with open(loc, 'r') as json_file:\n",
    "        data = json.load(json_file)\n",
    "        return data"
   ]
  },
  {
   "cell_type": "code",
   "execution_count": 3,
   "id": "be4c1a9c-ad4a-49e4-94c8-db558136bb10",
   "metadata": {},
   "outputs": [],
   "source": [
    "# current directory\n",
    "cwd = os.getcwd()+\"/\"\n"
   ]
  },
  {
   "cell_type": "code",
   "execution_count": 4,
   "id": "9bd01658-7233-4200-b075-b9508aa8611f",
   "metadata": {},
   "outputs": [],
   "source": [
    "def generate_html(data):\n",
    "    cwd = os.getcwd()+\"/\"\n",
    "    \"\"\"Generate an HTML file with clickable links based on input data.\"\"\"\n",
    "    html_content = \"\"\"\n",
    "    <!DOCTYPE html>\n",
    "    <html lang=\"en\">\n",
    "    <head>\n",
    "        <meta charset=\"UTF-8\">\n",
    "        <meta name=\"viewport\" content=\"width=device-width, initial-scale=1.0\">\n",
    "        <title>Link Tracker</title>\n",
    "        <style>\n",
    "            .clicked {{\n",
    "                color: red;\n",
    "            }}\n",
    "            .unclicked {{\n",
    "                color: blue;\n",
    "            }}\n",
    "        </style>\n",
    "    </head>\n",
    "    <body>\n",
    "        <script>\n",
    "            const data = %s;\n",
    "\n",
    "            // Get array of clicked link IDs from localStorage\n",
    "            const clickedLinks = JSON.parse(localStorage.getItem('clickedLinks')) || [];\n",
    "\n",
    "            function updateLink(id) {\n",
    "                if (!clickedLinks.includes(id)) {\n",
    "                    clickedLinks.push(id);  // Add ID to the clicked links list\n",
    "                    localStorage.setItem('clickedLinks', JSON.stringify(clickedLinks));\n",
    "                    renderLinks();  // Re-render links to update colors\n",
    "                }\n",
    "            }\n",
    "\n",
    "            function renderLinks() {\n",
    "                document.body.innerHTML = '';  // Clear existing links\n",
    "                data.forEach(item => {\n",
    "                    const link = document.createElement('a');\n",
    "                    link.href = item.url;\n",
    "                    link.textContent = item.text;\n",
    "                    link.className = clickedLinks.includes(item.id) ? 'clicked' : 'unclicked';\n",
    "                    link.onclick = function(event) {\n",
    "                        event.preventDefault();  // Prevent default link navigation\n",
    "                        updateLink(item.id);  // Update clicked status and color\n",
    "                    };\n",
    "                    document.body.appendChild(link);\n",
    "                    document.body.appendChild(document.createElement('br'));\n",
    "                });\n",
    "            }\n",
    "\n",
    "            // Initial rendering of links\n",
    "            renderLinks();\n",
    "        </script>\n",
    "    </body>\n",
    "    </html>\n",
    "    \"\"\" % str(data)\n",
    "\n",
    "    with open(cwd+'links.html', 'w') as file:\n",
    "        file.write(html_content)\n",
    "    print(\"HTML file 'links.html' generated successfully.\")\n"
   ]
  },
  {
   "cell_type": "code",
   "execution_count": 6,
   "id": "4d26f90f-cdc6-4701-bd75-007f9e5f5ea5",
   "metadata": {},
   "outputs": [
    {
     "name": "stdout",
     "output_type": "stream",
     "text": [
      "HTML file 'links.html' generated successfully.\n"
     ]
    }
   ],
   "source": [
    "sample_data = [\n",
    "        {'id': \t\"200125500644\", 'url':'https://www.naukri.com/job-listings-rollout-expert-invoice-to-pay-pisa-tool-robert-bosch-engineering-and-business-solutions-private-limited-bengaluru-5-to-10-years-200125500644', \n",
    "         'text': 'Robert Bosch Engineering and Business Solutions Private Limited 1 | Rollout Expert Invoice-to-Pay (PISA Tool)'},\n",
    "        {'id': 2, 'url': 'http://example.com/2', 'text': 'Example 2'},\n",
    "        {'id': 3, 'url': 'http://example.com/3', 'text': 'Example 3'}\n",
    "    ]    \n",
    "generate_html(sample_data)\n",
    "\n"
   ]
  },
  {
   "cell_type": "code",
   "execution_count": 7,
   "id": "3a26a921-1e4f-4830-9d4b-0a9dd874d9c8",
   "metadata": {},
   "outputs": [
    {
     "name": "stdout",
     "output_type": "stream",
     "text": [
      "HTML file \"/Users/ankoo/Documents/Code/jupyter-notebooks/fetch_data/job links - Naukri/output.html\" created successfully.\n"
     ]
    }
   ],
   "source": [
    "def create_html_from_dict(data_dict, filename=cwd+'output.html'):\n",
    "    # Start the HTML structure\n",
    "    html_content = '<html>\\n<head>\\n<title>Links</title>\\n</head>\\n<body>\\n'\n",
    "    \n",
    "    # Create a link for each item in the dictionary\n",
    "    for item in data_dict:\n",
    "        url = item.get('url', '#')\n",
    "        display_name = item.get('display_name', 'Unnamed')\n",
    "        html_content += f'<a href=\"{url}\" id=\"{item[\"id\"]}\">{display_name}</a><br>\\n'\n",
    "    \n",
    "    # End the HTML structure\n",
    "    html_content += '</body>\\n</html>'\n",
    "    \n",
    "    # Write the content to an HTML file\n",
    "    with open(filename, 'w') as file:\n",
    "        file.write(html_content)\n",
    "    print(f'HTML file \"{filename}\" created successfully.')\n",
    "\n",
    "# Example usage\n",
    "data = [\n",
    "    {'id': '1', 'url': 'https://example.com/1', 'display_name': 'Example 1'},\n",
    "    {'id': '2', 'url': 'https://example.com/2', 'display_name': 'Example 2'},\n",
    "    {'id': '3', 'url': 'https://example.com/3', 'display_name': 'Example 3'}\n",
    "]\n",
    "\n",
    "create_html_from_dict(data)"
   ]
  },
  {
   "cell_type": "code",
   "execution_count": null,
   "id": "9b299abb-8948-4da6-854f-2c368f5fc98c",
   "metadata": {},
   "outputs": [],
   "source": []
  }
 ],
 "metadata": {
  "kernelspec": {
   "display_name": "Python 3 (ipykernel)",
   "language": "python",
   "name": "python3"
  },
  "language_info": {
   "codemirror_mode": {
    "name": "ipython",
    "version": 3
   },
   "file_extension": ".py",
   "mimetype": "text/x-python",
   "name": "python",
   "nbconvert_exporter": "python",
   "pygments_lexer": "ipython3",
   "version": "3.12.6"
  }
 },
 "nbformat": 4,
 "nbformat_minor": 5
}
