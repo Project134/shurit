{
 "cells": [
  {
   "cell_type": "raw",
   "id": "a775290c-56af-4753-802c-f05ea9299ce9",
   "metadata": {},
   "source": [
    "base url = https://www.naukri.com/analytical-jobs\n",
    "\n",
    "https://www.naukri.com/analytical-jobs?experience=10&jobAge=3\n",
    "\n",
    "# delhi ncr and mumbai \n",
    "https://www.naukri.com/analytical-jobs?experience=10&jobAge=3&cityTypeGid=9508&cityTypeGid=9509\n",
    "\n",
    "# role categories - consulting + analytics + management\n",
    "https://www.naukri.com/analytical-jobs?experience=10&jobAge=3&cityTypeGid=9508&cityTypeGid=9509&glbl_qcrc=1018&glbl_qcrc=1020&glbl_qcrc=1052&glbl_qcrc=1053&glbl_qcrc=1055&glbl_qcrc=1060&glbl_qcrc=1061&glbl_qcrc=1082&glbl_qcrc=1084&glbl_qcrc=1144&glbl_qcrc=1156\n",
    "\n",
    "\n",
    "\n",
    "# healthcare analytics wala angle - isme functional area analytics daal dia :)\n",
    "https://www.naukri.com/health-care-jobs?experience=10&functionAreaIdGid=3&jobAge=7\n",
    "\n",
    "\n",
    "\n",
    "keyskills \n",
    "\n",
    "\n",
    "['https://www.naukri.com/data-analysis-jobs',\n",
    "'https://www.naukri.com/analytical-jobs',\n",
    "'https://www.naukri.com/business-intelligence-jobs',\n",
    "'https://www.naukri.com/business-reporting-jobs',\n",
    "'https://www.naukri.com/data-visualization-jobs',\n",
    "'https://www.naukri.com/pyspark-jobs',\n",
    "'https://www.naukri.com/python-spark-jobs',\n",
    "'https://www.naukri.com/panda-jobs',\n",
    "'https://www.naukri.com/azure-data-factory-jobs',\n",
    "'https://www.naukri.com/azure-databricks-jobs',\n",
    "'https://www.naukri.com/data-engineering-jobs',\n",
    "'https://www.naukri.com/business-analyst-jobs',\n",
    "'https://www.naukri.com/analytics-manager-jobs'\n",
    "]\n",
    "\n",
    "\n",
    "exact search term = \n",
    "\n",
    "\"business analyst\"  + mumbai + delhi NCR\n",
    "https://www.naukri.com/business-analyst-jobs?k=%22business%20analyst%22&experience=10&cityTypeGid=6&cityTypeGid=73&cityTypeGid=134&cityTypeGid=138&cityTypeGid=220&cityTypeGid=9508&cityTypeGid=9509&jobAge=7\n",
    "\n",
    "\"Analytics Manager\" + mumbai + delhi NCR\n",
    "https://www.naukri.com/analytics-manager-jobs?k=%22analytics%20manager%22&nignbevent_src=jobsearchDeskGNB&experience=10&cityTypeGid=9508&cityTypeGid=9509&jobAge=7"
   ]
  },
  {
   "cell_type": "markdown",
   "id": "093435b3-8599-4dd8-8a61-c163e8f60f51",
   "metadata": {},
   "source": [
    "## importing libraries"
   ]
  },
  {
   "cell_type": "code",
   "execution_count": 50,
   "id": "274477c4-9e12-45c3-a84e-4c7df08af56f",
   "metadata": {},
   "outputs": [],
   "source": [
    "import os \n",
    "import numpy as np \n",
    "from bs4 import BeautifulSoup \n",
    "import requests\n",
    "from selenium import webdriver \n",
    "import time\n",
    "from selenium.webdriver.common.by import By \n",
    "import pandas as pd \n",
    "import random \n",
    "import json \n",
    "from collections import defaultdict\n",
    "import ast\n",
    "import math"
   ]
  },
  {
   "cell_type": "markdown",
   "id": "090af3a6-3b77-493b-a8b9-c3db19cf02a6",
   "metadata": {},
   "source": [
    "## functions "
   ]
  },
  {
   "cell_type": "code",
   "execution_count": 51,
   "id": "3c8ff034-121c-40b5-a2cd-2bfc1b12298f",
   "metadata": {},
   "outputs": [],
   "source": [
    "def write_json(data,fname,fpath=None):\n",
    "    if fpath:\n",
    "        loc = fpath + '/' + fname + '.json'\n",
    "    else: \n",
    "        loc = os.getcwd()+\"/\" + fname + '.json'\n",
    "\n",
    "    with open(loc, 'w') as json_file:\n",
    "        json.dump(data, json_file)\n",
    "\n",
    "\n",
    "def read_json(fname,fpath=None):\n",
    "    if fpath:\n",
    "        loc = fpath + '/' + fname + '.json'\n",
    "    else: \n",
    "        loc = os.getcwd()+\"/\" + fname + '.json'\n",
    "\n",
    "    with open(loc, 'r') as json_file:\n",
    "        data = json.load(json_file)\n",
    "        return data"
   ]
  },
  {
   "cell_type": "code",
   "execution_count": null,
   "id": "82b54880-2e1c-4c67-a0fe-a94e5aff360f",
   "metadata": {},
   "outputs": [],
   "source": []
  },
  {
   "cell_type": "code",
   "execution_count": null,
   "id": "85916c76-3dc6-4ed1-95d6-1644ee79e7a0",
   "metadata": {},
   "outputs": [],
   "source": []
  },
  {
   "cell_type": "markdown",
   "id": "40fd0d12-6f2d-4404-ae90-bec305bce85b",
   "metadata": {},
   "source": [
    "## setting up "
   ]
  },
  {
   "cell_type": "code",
   "execution_count": 52,
   "id": "9c0935c3-ccb6-4504-8a2f-4c408253dfc7",
   "metadata": {},
   "outputs": [],
   "source": [
    "# setting url\n",
    "urls = {}\n",
    "\n",
    "# current directory\n",
    "cwd = os.getcwd()+\"/\"\n",
    "\n",
    "# url parameters name \n",
    "c_param = '&qctopGroupId='\n",
    "\n",
    "# other paramters \n",
    "s_param = '?experience=10&jobAge=2'\n",
    "\n",
    "# location - mumbai and delhi \n",
    "# l_param = '&cityTypeGid=9508&cityTypeGid=9509'\n",
    "\n",
    "l_param = ''\n",
    "\n",
    "ctc_param = '&ctcFilter=501&ctcFilter=25to50&ctcFilter=50to75&ctcFilter=75to100&ctcFilter=100to500'"
   ]
  },
  {
   "cell_type": "markdown",
   "id": "eae891c7-0983-40da-8960-7ef7d3c00fcc",
   "metadata": {},
   "source": [
    "## create a list of companeis for the url"
   ]
  },
  {
   "cell_type": "code",
   "execution_count": 53,
   "id": "16959383-3f4e-4c33-8485-273a69b05434",
   "metadata": {},
   "outputs": [],
   "source": [
    "# reading the companies df\n",
    "c = pd.read_csv(cwd+'companies.csv')\n"
   ]
  },
  {
   "cell_type": "code",
   "execution_count": 54,
   "id": "a20cc9bd-7d4c-4016-be15-c8bae22fd4f5",
   "metadata": {},
   "outputs": [],
   "source": [
    "# start_url = 'https://www.naukri.com/analytical-jobs?experience=10&jobAge=3'\n",
    "\n",
    "# start_urls = ['https://www.naukri.com/analytical-jobs?experience=10&jobAge=3','https://www.naukri.com/analytical-jobs?experience=10&jobAge=3']\n",
    "\n",
    "\n",
    "start_urls = ['https://www.naukri.com/data-analysis-jobs',\n",
    "'https://www.naukri.com/analytical-jobs',\n",
    "'https://www.naukri.com/business-intelligence-jobs',\n",
    "'https://www.naukri.com/business-reporting-jobs',\n",
    "'https://www.naukri.com/data-visualization-jobs',\n",
    "'https://www.naukri.com/pyspark-jobs',\n",
    "'https://www.naukri.com/python-spark-jobs',\n",
    "'https://www.naukri.com/panda-jobs',\n",
    "'https://www.naukri.com/azure-data-factory-jobs',\n",
    "'https://www.naukri.com/azure-databricks-jobs',\n",
    "'https://www.naukri.com/data-engineering-jobs',\n",
    "'https://www.naukri.com/business-analyst-jobs',\n",
    "'https://www.naukri.com/analytics-manager-jobs'\n",
    "]"
   ]
  },
  {
   "cell_type": "code",
   "execution_count": 55,
   "id": "e9700179-8290-49b7-ab91-6c35635d0a93",
   "metadata": {},
   "outputs": [],
   "source": [
    "additional_url_1 = ['https://www.naukri.com/business-analyst-jobs?k=%22business%20analyst%22&experience=10&cityTypeGid=6&cityTypeGid=73&cityTypeGid=134&cityTypeGid=138&cityTypeGid=220&cityTypeGid=9508&cityTypeGid=9509&jobAge=3',\n",
    "                    'https://www.naukri.com/analytics-manager-jobs?k=%22analytics%20manager%22&nignbevent_src=jobsearchDeskGNB&experience=10&cityTypeGid=9508&cityTypeGid=9509&jobAge=3']"
   ]
  },
  {
   "cell_type": "code",
   "execution_count": 56,
   "id": "3976f8f9-506d-4dcb-8a20-73e987b9c2c9",
   "metadata": {},
   "outputs": [],
   "source": [
    "\n",
    "c_filter = np.array(c.query('rating >= 4.9').id)\n",
    "c_filter = np.array_split(c_filter,math.ceil(len(c_filter)/200))"
   ]
  },
  {
   "cell_type": "code",
   "execution_count": 57,
   "id": "efe1d81a-c302-484f-88c4-29909d903485",
   "metadata": {},
   "outputs": [],
   "source": [
    "url_no = 1\n",
    "\n",
    "# companies k corresponding key skills urls\n",
    "\n",
    "for start_url in start_urls:\n",
    "    count = 0\n",
    "    for c in c_filter:    \n",
    "        add_to_url = ''\n",
    "        for c_id in c:\n",
    "            add_to_url = add_to_url + c_param + str(c_id)\n",
    "        urls[f'url_{url_no}_'+str(count)] = start_url+s_param \\\n",
    "        +l_param \\\n",
    "        +ctc_param \\\n",
    "        # +add_to_url \n",
    "        \n",
    "        count+=1\n",
    "    url_no+=1\n",
    "\n",
    "\n",
    "# additional urls - 'keywords one'\n",
    "# count = 0\n",
    "# for add_url in additional_url_1:\n",
    "#     urls[f'url_{url_no}_'+str(count)] = add_url\n",
    "#     url_no+=1"
   ]
  },
  {
   "cell_type": "code",
   "execution_count": 58,
   "id": "aef1557f-241b-44a7-989d-9b69e38791c5",
   "metadata": {},
   "outputs": [],
   "source": [
    "write_json(urls,'urls')"
   ]
  },
  {
   "cell_type": "code",
   "execution_count": 59,
   "id": "9fbe466d-efe4-44a8-8296-431eb47b39bc",
   "metadata": {},
   "outputs": [
    {
     "data": {
      "text/plain": [
       "{'url_1_0': 'https://www.naukri.com/data-analysis-jobs?experience=10&jobAge=2&ctcFilter=501&ctcFilter=25to50&ctcFilter=50to75&ctcFilter=75to100&ctcFilter=100to500',\n",
       " 'url_2_0': 'https://www.naukri.com/analytical-jobs?experience=10&jobAge=2&ctcFilter=501&ctcFilter=25to50&ctcFilter=50to75&ctcFilter=75to100&ctcFilter=100to500',\n",
       " 'url_3_0': 'https://www.naukri.com/business-intelligence-jobs?experience=10&jobAge=2&ctcFilter=501&ctcFilter=25to50&ctcFilter=50to75&ctcFilter=75to100&ctcFilter=100to500',\n",
       " 'url_4_0': 'https://www.naukri.com/business-reporting-jobs?experience=10&jobAge=2&ctcFilter=501&ctcFilter=25to50&ctcFilter=50to75&ctcFilter=75to100&ctcFilter=100to500',\n",
       " 'url_5_0': 'https://www.naukri.com/data-visualization-jobs?experience=10&jobAge=2&ctcFilter=501&ctcFilter=25to50&ctcFilter=50to75&ctcFilter=75to100&ctcFilter=100to500',\n",
       " 'url_6_0': 'https://www.naukri.com/pyspark-jobs?experience=10&jobAge=2&ctcFilter=501&ctcFilter=25to50&ctcFilter=50to75&ctcFilter=75to100&ctcFilter=100to500',\n",
       " 'url_7_0': 'https://www.naukri.com/python-spark-jobs?experience=10&jobAge=2&ctcFilter=501&ctcFilter=25to50&ctcFilter=50to75&ctcFilter=75to100&ctcFilter=100to500',\n",
       " 'url_8_0': 'https://www.naukri.com/panda-jobs?experience=10&jobAge=2&ctcFilter=501&ctcFilter=25to50&ctcFilter=50to75&ctcFilter=75to100&ctcFilter=100to500',\n",
       " 'url_9_0': 'https://www.naukri.com/azure-data-factory-jobs?experience=10&jobAge=2&ctcFilter=501&ctcFilter=25to50&ctcFilter=50to75&ctcFilter=75to100&ctcFilter=100to500',\n",
       " 'url_10_0': 'https://www.naukri.com/azure-databricks-jobs?experience=10&jobAge=2&ctcFilter=501&ctcFilter=25to50&ctcFilter=50to75&ctcFilter=75to100&ctcFilter=100to500',\n",
       " 'url_11_0': 'https://www.naukri.com/data-engineering-jobs?experience=10&jobAge=2&ctcFilter=501&ctcFilter=25to50&ctcFilter=50to75&ctcFilter=75to100&ctcFilter=100to500',\n",
       " 'url_12_0': 'https://www.naukri.com/business-analyst-jobs?experience=10&jobAge=2&ctcFilter=501&ctcFilter=25to50&ctcFilter=50to75&ctcFilter=75to100&ctcFilter=100to500',\n",
       " 'url_13_0': 'https://www.naukri.com/analytics-manager-jobs?experience=10&jobAge=2&ctcFilter=501&ctcFilter=25to50&ctcFilter=50to75&ctcFilter=75to100&ctcFilter=100to500'}"
      ]
     },
     "execution_count": 59,
     "metadata": {},
     "output_type": "execute_result"
    }
   ],
   "source": [
    "read_json('urls')"
   ]
  },
  {
   "cell_type": "code",
   "execution_count": null,
   "id": "8c65087f-bf75-47ca-a8b2-98422e3c4935",
   "metadata": {},
   "outputs": [],
   "source": []
  },
  {
   "cell_type": "code",
   "execution_count": null,
   "id": "abd44e6d-6829-48b2-a69f-167cebcee126",
   "metadata": {},
   "outputs": [],
   "source": []
  },
  {
   "cell_type": "code",
   "execution_count": null,
   "id": "b6a099d6-6069-4d4f-b5fb-bf6523d4ceb9",
   "metadata": {},
   "outputs": [],
   "source": []
  }
 ],
 "metadata": {
  "kernelspec": {
   "display_name": "Python 3 (ipykernel)",
   "language": "python",
   "name": "python3"
  },
  "language_info": {
   "codemirror_mode": {
    "name": "ipython",
    "version": 3
   },
   "file_extension": ".py",
   "mimetype": "text/x-python",
   "name": "python",
   "nbconvert_exporter": "python",
   "pygments_lexer": "ipython3",
   "version": "3.12.6"
  }
 },
 "nbformat": 4,
 "nbformat_minor": 5
}
